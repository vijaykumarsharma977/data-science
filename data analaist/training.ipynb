{
 "cells": [
  {
   "cell_type": "code",
   "execution_count": 13,
   "id": "896cd777",
   "metadata": {},
   "outputs": [
    {
     "name": "stdout",
     "output_type": "stream",
     "text": [
      "vijay kumar sharma\n"
     ]
    }
   ],
   "source": [
    "print(\"vijay kumar sharma\")"
   ]
  },
  {
   "cell_type": "code",
   "execution_count": 18,
   "id": "ae598119",
   "metadata": {},
   "outputs": [
    {
     "data": {
      "text/plain": [
       "133"
      ]
     },
     "execution_count": 18,
     "metadata": {},
     "output_type": "execute_result"
    }
   ],
   "source": [
    "67+66"
   ]
  },
  {
   "cell_type": "code",
   "execution_count": 19,
   "id": "37cae44b",
   "metadata": {},
   "outputs": [
    {
     "name": "stdout",
     "output_type": "stream",
     "text": [
      "imi tumake bhalo bhasi\n"
     ]
    }
   ],
   "source": [
    "print(\"imi tumake bhalo bhasi\")"
   ]
  },
  {
   "cell_type": "markdown",
   "id": "38b43c32",
   "metadata": {},
   "source": [
    "what is the name"
   ]
  },
  {
   "cell_type": "code",
   "execution_count": 17,
   "id": "e7d5c32c",
   "metadata": {},
   "outputs": [
    {
     "name": "stdout",
     "output_type": "stream",
     "text": [
      "did you know\n"
     ]
    }
   ],
   "source": [
    "print(\"did you know\")"
   ]
  }
 ],
 "metadata": {
  "kernelspec": {
   "display_name": "Python 3 (ipykernel)",
   "language": "python",
   "name": "python3"
  },
  "language_info": {
   "codemirror_mode": {
    "name": "ipython",
    "version": 3
   },
   "file_extension": ".py",
   "mimetype": "text/x-python",
   "name": "python",
   "nbconvert_exporter": "python",
   "pygments_lexer": "ipython3",
   "version": "3.11.5"
  }
 },
 "nbformat": 4,
 "nbformat_minor": 5
}
